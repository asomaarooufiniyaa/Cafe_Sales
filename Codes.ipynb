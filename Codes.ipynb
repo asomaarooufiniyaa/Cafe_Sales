{
 "cells": [
  {
   "cell_type": "code",
   "execution_count": 166,
   "metadata": {},
   "outputs": [],
   "source": [
    "import pandas as pd\n",
    "import numpy as np\n",
    "import matplotlib.pyplot as plt"
   ]
  },
  {
   "cell_type": "code",
   "execution_count": 167,
   "metadata": {},
   "outputs": [
    {
     "data": {
      "text/html": [
       "<div>\n",
       "<style scoped>\n",
       "    .dataframe tbody tr th:only-of-type {\n",
       "        vertical-align: middle;\n",
       "    }\n",
       "\n",
       "    .dataframe tbody tr th {\n",
       "        vertical-align: top;\n",
       "    }\n",
       "\n",
       "    .dataframe thead th {\n",
       "        text-align: right;\n",
       "    }\n",
       "</style>\n",
       "<table border=\"1\" class=\"dataframe\">\n",
       "  <thead>\n",
       "    <tr style=\"text-align: right;\">\n",
       "      <th></th>\n",
       "      <th>Transaction ID</th>\n",
       "      <th>Item</th>\n",
       "      <th>Quantity</th>\n",
       "      <th>Price Per Unit</th>\n",
       "      <th>Total Spent</th>\n",
       "      <th>Payment Method</th>\n",
       "      <th>Location</th>\n",
       "      <th>Transaction Date</th>\n",
       "    </tr>\n",
       "  </thead>\n",
       "  <tbody>\n",
       "    <tr>\n",
       "      <th>0</th>\n",
       "      <td>TXN_1961373</td>\n",
       "      <td>Coffee</td>\n",
       "      <td>2</td>\n",
       "      <td>2.0</td>\n",
       "      <td>4.0</td>\n",
       "      <td>Credit Card</td>\n",
       "      <td>Takeaway</td>\n",
       "      <td>2023-09-08</td>\n",
       "    </tr>\n",
       "    <tr>\n",
       "      <th>1</th>\n",
       "      <td>TXN_4977031</td>\n",
       "      <td>Cake</td>\n",
       "      <td>4</td>\n",
       "      <td>3.0</td>\n",
       "      <td>12.0</td>\n",
       "      <td>Cash</td>\n",
       "      <td>In-store</td>\n",
       "      <td>2023-05-16</td>\n",
       "    </tr>\n",
       "    <tr>\n",
       "      <th>2</th>\n",
       "      <td>TXN_4271903</td>\n",
       "      <td>Cookie</td>\n",
       "      <td>4</td>\n",
       "      <td>1.0</td>\n",
       "      <td>ERROR</td>\n",
       "      <td>Credit Card</td>\n",
       "      <td>In-store</td>\n",
       "      <td>2023-07-19</td>\n",
       "    </tr>\n",
       "    <tr>\n",
       "      <th>3</th>\n",
       "      <td>TXN_7034554</td>\n",
       "      <td>Salad</td>\n",
       "      <td>2</td>\n",
       "      <td>5.0</td>\n",
       "      <td>10.0</td>\n",
       "      <td>UNKNOWN</td>\n",
       "      <td>UNKNOWN</td>\n",
       "      <td>2023-04-27</td>\n",
       "    </tr>\n",
       "    <tr>\n",
       "      <th>4</th>\n",
       "      <td>TXN_3160411</td>\n",
       "      <td>Coffee</td>\n",
       "      <td>2</td>\n",
       "      <td>2.0</td>\n",
       "      <td>4.0</td>\n",
       "      <td>Digital Wallet</td>\n",
       "      <td>In-store</td>\n",
       "      <td>2023-06-11</td>\n",
       "    </tr>\n",
       "  </tbody>\n",
       "</table>\n",
       "</div>"
      ],
      "text/plain": [
       "  Transaction ID    Item Quantity Price Per Unit Total Spent  Payment Method  \\\n",
       "0    TXN_1961373  Coffee        2            2.0         4.0     Credit Card   \n",
       "1    TXN_4977031    Cake        4            3.0        12.0            Cash   \n",
       "2    TXN_4271903  Cookie        4            1.0       ERROR     Credit Card   \n",
       "3    TXN_7034554   Salad        2            5.0        10.0         UNKNOWN   \n",
       "4    TXN_3160411  Coffee        2            2.0         4.0  Digital Wallet   \n",
       "\n",
       "   Location Transaction Date  \n",
       "0  Takeaway       2023-09-08  \n",
       "1  In-store       2023-05-16  \n",
       "2  In-store       2023-07-19  \n",
       "3   UNKNOWN       2023-04-27  \n",
       "4  In-store       2023-06-11  "
      ]
     },
     "execution_count": 167,
     "metadata": {},
     "output_type": "execute_result"
    }
   ],
   "source": [
    "A = pd.read_csv(\"dirty_cafe_sales.csv\")\n",
    "A.head()"
   ]
  },
  {
   "cell_type": "code",
   "execution_count": 168,
   "metadata": {},
   "outputs": [],
   "source": [
    "A[\"Transaction ID\"] = A[\"Transaction ID\"].str.replace(\"TXN_\",  \"\" , regex=False)"
   ]
  },
  {
   "cell_type": "code",
   "execution_count": 169,
   "metadata": {},
   "outputs": [
    {
     "data": {
      "text/plain": [
       "Item      Price Per Unit\n",
       "Juice     3.0               1110\n",
       "Coffee    2.0               1108\n",
       "Cake      3.0               1085\n",
       "Salad     5.0               1082\n",
       "Sandwich  4.0               1082\n",
       "Smoothie  4.0               1036\n",
       "Cookie    1.0               1026\n",
       "Tea       1.5               1023\n",
       "NaN       4.0                 82\n",
       "          3.0                 80\n",
       "ERROR     3.0                 77\n",
       "UNKNOWN   3.0                 77\n",
       "          4.0                 70\n",
       "ERROR     4.0                 61\n",
       "UNKNOWN   2.0                 49\n",
       "          1.0                 45\n",
       "          5.0                 45\n",
       "          1.5                 40\n",
       "NaN       2.0                 39\n",
       "ERROR     5.0                 39\n",
       "NaN       1.0                 38\n",
       "          5.0                 38\n",
       "ERROR     1.5                 37\n",
       "Salad     ERROR               34\n",
       "ERROR     1.0                 34\n",
       "NaN       1.5                 33\n",
       "ERROR     2.0                 31\n",
       "Juice     ERROR               26\n",
       "Tea       ERROR               25\n",
       "Smoothie  NaN                 24\n",
       "Cookie    NaN                 24\n",
       "          UNKNOWN             21\n",
       "Tea       UNKNOWN             21\n",
       "Cookie    ERROR               21\n",
       "Cake      NaN                 21\n",
       "Tea       NaN                 20\n",
       "Coffee    UNKNOWN             20\n",
       "          NaN                 19\n",
       "Sandwich  UNKNOWN             19\n",
       "Smoothie  ERROR               19\n",
       "Cake      ERROR               19\n",
       "Coffee    ERROR               18\n",
       "Juice     UNKNOWN             18\n",
       "          NaN                 17\n",
       "Sandwich  NaN                 17\n",
       "Smoothie  UNKNOWN             17\n",
       "Salad     UNKNOWN             16\n",
       "          NaN                 16\n",
       "Cake      UNKNOWN             14\n",
       "Sandwich  ERROR               13\n",
       "NaN       UNKNOWN              8\n",
       "          ERROR                8\n",
       "UNKNOWN   UNKNOWN              7\n",
       "ERROR     NaN                  7\n",
       "UNKNOWN   NaN                  7\n",
       "NaN       NaN                  7\n",
       "UNKNOWN   ERROR                4\n",
       "ERROR     UNKNOWN              3\n",
       "          ERROR                3\n",
       "Name: count, dtype: int64"
      ]
     },
     "execution_count": 169,
     "metadata": {},
     "output_type": "execute_result"
    }
   ],
   "source": [
    "A[[\"Item\", \"Price Per Unit\"]].value_counts(dropna=False)"
   ]
  },
  {
   "cell_type": "code",
   "execution_count": 170,
   "metadata": {},
   "outputs": [
    {
     "name": "stdout",
     "output_type": "stream",
     "text": [
      "<class 'pandas.core.frame.DataFrame'>\n",
      "RangeIndex: 10000 entries, 0 to 9999\n",
      "Data columns (total 8 columns):\n",
      " #   Column            Non-Null Count  Dtype \n",
      "---  ------            --------------  ----- \n",
      " 0   Transaction ID    10000 non-null  object\n",
      " 1   Item              9667 non-null   object\n",
      " 2   Quantity          9862 non-null   object\n",
      " 3   Price Per Unit    9821 non-null   object\n",
      " 4   Total Spent       9827 non-null   object\n",
      " 5   Payment Method    7421 non-null   object\n",
      " 6   Location          6735 non-null   object\n",
      " 7   Transaction Date  9841 non-null   object\n",
      "dtypes: object(8)\n",
      "memory usage: 625.1+ KB\n"
     ]
    }
   ],
   "source": [
    "A.info()"
   ]
  },
  {
   "cell_type": "code",
   "execution_count": 171,
   "metadata": {},
   "outputs": [],
   "source": [
    "A[\"Price Per Unit\"] = pd.to_numeric(A[\"Price Per Unit\"] , errors=\"coerce\")"
   ]
  },
  {
   "cell_type": "code",
   "execution_count": 172,
   "metadata": {},
   "outputs": [],
   "source": [
    "A[\"Quantity\"] = pd.to_numeric(A[\"Quantity\"] , errors=\"coerce\")"
   ]
  },
  {
   "cell_type": "code",
   "execution_count": 173,
   "metadata": {},
   "outputs": [],
   "source": [
    "A[\"Total Spent\"] = pd.to_numeric(A[\"Total Spent\"] , errors=\"coerce\")"
   ]
  },
  {
   "cell_type": "code",
   "execution_count": 174,
   "metadata": {},
   "outputs": [],
   "source": [
    "Items = {\n",
    "    \"Juice\":3.0,\n",
    "    \"Coffee\":2.0,\n",
    "    \"Cake\":3.0,\n",
    "    \"Salad\":5.0,\n",
    "    \"Samdwich\":4.0,\n",
    "    \"Smoothie\":4.0,\n",
    "    \"Cookie\":1.0,\n",
    "    \"Tea\":1.5\n",
    "}"
   ]
  },
  {
   "cell_type": "code",
   "execution_count": 175,
   "metadata": {},
   "outputs": [],
   "source": [
    "Prices = {\n",
    "3.0:\"Juice\",\n",
    "2.0:\"Coffee\",\n",
    "3.0:\"Cake\",\n",
    "5.0:\"Salad\",\n",
    "4.0:\"Samdwich\",\n",
    "4.0:\"Smoothie\",\n",
    "1.0:\"Cookie\",\n",
    "1.5:\"Tea\"\n",
    "}"
   ]
  },
  {
   "cell_type": "code",
   "execution_count": 176,
   "metadata": {},
   "outputs": [
    {
     "data": {
      "text/plain": [
       "np.int64(333)"
      ]
     },
     "execution_count": 176,
     "metadata": {},
     "output_type": "execute_result"
    }
   ],
   "source": [
    "A[\"Item\"].isna().sum()"
   ]
  },
  {
   "cell_type": "code",
   "execution_count": 177,
   "metadata": {},
   "outputs": [],
   "source": [
    "A[\"Item\"] = np.where((A[\"Item\"] == \"ERROR\")|A[\"Item\"] == \"UNKNOWN\" , np.nan ,A[\"Item\"] )"
   ]
  },
  {
   "cell_type": "code",
   "execution_count": 178,
   "metadata": {},
   "outputs": [],
   "source": [
    "A.loc[~pd.isna(A[\"Total Spent\"]), \"Price Per Unit\"] = A[\"Total Spent\"] / A[\"Quantity\"]\n",
    "A.loc[pd.isna(A[\"Total Spent\"]), \"Total Spent\"] = A[\"Quantity\"] * A[\"Price Per Unit\"]"
   ]
  },
  {
   "cell_type": "code",
   "execution_count": 179,
   "metadata": {},
   "outputs": [
    {
     "data": {
      "text/html": [
       "<div>\n",
       "<style scoped>\n",
       "    .dataframe tbody tr th:only-of-type {\n",
       "        vertical-align: middle;\n",
       "    }\n",
       "\n",
       "    .dataframe tbody tr th {\n",
       "        vertical-align: top;\n",
       "    }\n",
       "\n",
       "    .dataframe thead th {\n",
       "        text-align: right;\n",
       "    }\n",
       "</style>\n",
       "<table border=\"1\" class=\"dataframe\">\n",
       "  <thead>\n",
       "    <tr style=\"text-align: right;\">\n",
       "      <th></th>\n",
       "      <th>Transaction ID</th>\n",
       "      <th>Item</th>\n",
       "      <th>Quantity</th>\n",
       "      <th>Price Per Unit</th>\n",
       "      <th>Total Spent</th>\n",
       "      <th>Payment Method</th>\n",
       "      <th>Location</th>\n",
       "      <th>Transaction Date</th>\n",
       "    </tr>\n",
       "  </thead>\n",
       "  <tbody>\n",
       "    <tr>\n",
       "      <th>0</th>\n",
       "      <td>1961373</td>\n",
       "      <td>Coffee</td>\n",
       "      <td>2.0</td>\n",
       "      <td>2.0</td>\n",
       "      <td>4.0</td>\n",
       "      <td>Credit Card</td>\n",
       "      <td>Takeaway</td>\n",
       "      <td>2023-09-08</td>\n",
       "    </tr>\n",
       "    <tr>\n",
       "      <th>1</th>\n",
       "      <td>4977031</td>\n",
       "      <td>Cake</td>\n",
       "      <td>4.0</td>\n",
       "      <td>3.0</td>\n",
       "      <td>12.0</td>\n",
       "      <td>Cash</td>\n",
       "      <td>In-store</td>\n",
       "      <td>2023-05-16</td>\n",
       "    </tr>\n",
       "    <tr>\n",
       "      <th>2</th>\n",
       "      <td>4271903</td>\n",
       "      <td>Cookie</td>\n",
       "      <td>4.0</td>\n",
       "      <td>1.0</td>\n",
       "      <td>4.0</td>\n",
       "      <td>Credit Card</td>\n",
       "      <td>In-store</td>\n",
       "      <td>2023-07-19</td>\n",
       "    </tr>\n",
       "    <tr>\n",
       "      <th>3</th>\n",
       "      <td>7034554</td>\n",
       "      <td>Salad</td>\n",
       "      <td>2.0</td>\n",
       "      <td>5.0</td>\n",
       "      <td>10.0</td>\n",
       "      <td>UNKNOWN</td>\n",
       "      <td>UNKNOWN</td>\n",
       "      <td>2023-04-27</td>\n",
       "    </tr>\n",
       "    <tr>\n",
       "      <th>4</th>\n",
       "      <td>3160411</td>\n",
       "      <td>Coffee</td>\n",
       "      <td>2.0</td>\n",
       "      <td>2.0</td>\n",
       "      <td>4.0</td>\n",
       "      <td>Digital Wallet</td>\n",
       "      <td>In-store</td>\n",
       "      <td>2023-06-11</td>\n",
       "    </tr>\n",
       "    <tr>\n",
       "      <th>...</th>\n",
       "      <td>...</td>\n",
       "      <td>...</td>\n",
       "      <td>...</td>\n",
       "      <td>...</td>\n",
       "      <td>...</td>\n",
       "      <td>...</td>\n",
       "      <td>...</td>\n",
       "      <td>...</td>\n",
       "    </tr>\n",
       "    <tr>\n",
       "      <th>9995</th>\n",
       "      <td>7672686</td>\n",
       "      <td>Coffee</td>\n",
       "      <td>2.0</td>\n",
       "      <td>2.0</td>\n",
       "      <td>4.0</td>\n",
       "      <td>NaN</td>\n",
       "      <td>UNKNOWN</td>\n",
       "      <td>2023-08-30</td>\n",
       "    </tr>\n",
       "    <tr>\n",
       "      <th>9996</th>\n",
       "      <td>9659401</td>\n",
       "      <td>NaN</td>\n",
       "      <td>3.0</td>\n",
       "      <td>1.0</td>\n",
       "      <td>3.0</td>\n",
       "      <td>Digital Wallet</td>\n",
       "      <td>NaN</td>\n",
       "      <td>2023-06-02</td>\n",
       "    </tr>\n",
       "    <tr>\n",
       "      <th>9997</th>\n",
       "      <td>5255387</td>\n",
       "      <td>Coffee</td>\n",
       "      <td>4.0</td>\n",
       "      <td>2.0</td>\n",
       "      <td>8.0</td>\n",
       "      <td>Digital Wallet</td>\n",
       "      <td>NaN</td>\n",
       "      <td>2023-03-02</td>\n",
       "    </tr>\n",
       "    <tr>\n",
       "      <th>9998</th>\n",
       "      <td>7695629</td>\n",
       "      <td>Cookie</td>\n",
       "      <td>3.0</td>\n",
       "      <td>1.0</td>\n",
       "      <td>3.0</td>\n",
       "      <td>Digital Wallet</td>\n",
       "      <td>NaN</td>\n",
       "      <td>2023-12-02</td>\n",
       "    </tr>\n",
       "    <tr>\n",
       "      <th>9999</th>\n",
       "      <td>6170729</td>\n",
       "      <td>Sandwich</td>\n",
       "      <td>3.0</td>\n",
       "      <td>4.0</td>\n",
       "      <td>12.0</td>\n",
       "      <td>Cash</td>\n",
       "      <td>In-store</td>\n",
       "      <td>2023-11-07</td>\n",
       "    </tr>\n",
       "  </tbody>\n",
       "</table>\n",
       "<p>10000 rows × 8 columns</p>\n",
       "</div>"
      ],
      "text/plain": [
       "     Transaction ID      Item  Quantity  Price Per Unit  Total Spent  \\\n",
       "0           1961373    Coffee       2.0             2.0          4.0   \n",
       "1           4977031      Cake       4.0             3.0         12.0   \n",
       "2           4271903    Cookie       4.0             1.0          4.0   \n",
       "3           7034554     Salad       2.0             5.0         10.0   \n",
       "4           3160411    Coffee       2.0             2.0          4.0   \n",
       "...             ...       ...       ...             ...          ...   \n",
       "9995        7672686    Coffee       2.0             2.0          4.0   \n",
       "9996        9659401       NaN       3.0             1.0          3.0   \n",
       "9997        5255387    Coffee       4.0             2.0          8.0   \n",
       "9998        7695629    Cookie       3.0             1.0          3.0   \n",
       "9999        6170729  Sandwich       3.0             4.0         12.0   \n",
       "\n",
       "      Payment Method  Location Transaction Date  \n",
       "0        Credit Card  Takeaway       2023-09-08  \n",
       "1               Cash  In-store       2023-05-16  \n",
       "2        Credit Card  In-store       2023-07-19  \n",
       "3            UNKNOWN   UNKNOWN       2023-04-27  \n",
       "4     Digital Wallet  In-store       2023-06-11  \n",
       "...              ...       ...              ...  \n",
       "9995             NaN   UNKNOWN       2023-08-30  \n",
       "9996  Digital Wallet       NaN       2023-06-02  \n",
       "9997  Digital Wallet       NaN       2023-03-02  \n",
       "9998  Digital Wallet       NaN       2023-12-02  \n",
       "9999            Cash  In-store       2023-11-07  \n",
       "\n",
       "[10000 rows x 8 columns]"
      ]
     },
     "execution_count": 179,
     "metadata": {},
     "output_type": "execute_result"
    }
   ],
   "source": [
    "A"
   ]
  },
  {
   "cell_type": "code",
   "execution_count": 180,
   "metadata": {},
   "outputs": [
    {
     "data": {
      "text/plain": [
       "np.int64(479)"
      ]
     },
     "execution_count": 180,
     "metadata": {},
     "output_type": "execute_result"
    }
   ],
   "source": [
    "A[\"Price Per Unit\"].isna().sum()"
   ]
  },
  {
   "cell_type": "code",
   "execution_count": 181,
   "metadata": {},
   "outputs": [],
   "source": [
    "A.dropna(subset=\"Price Per Unit\" , inplace=True)"
   ]
  },
  {
   "cell_type": "code",
   "execution_count": 182,
   "metadata": {},
   "outputs": [],
   "source": [
    "A.dropna(subset=\"Quantity\" , inplace=True)"
   ]
  },
  {
   "cell_type": "code",
   "execution_count": 183,
   "metadata": {},
   "outputs": [
    {
     "data": {
      "text/html": [
       "<div>\n",
       "<style scoped>\n",
       "    .dataframe tbody tr th:only-of-type {\n",
       "        vertical-align: middle;\n",
       "    }\n",
       "\n",
       "    .dataframe tbody tr th {\n",
       "        vertical-align: top;\n",
       "    }\n",
       "\n",
       "    .dataframe thead th {\n",
       "        text-align: right;\n",
       "    }\n",
       "</style>\n",
       "<table border=\"1\" class=\"dataframe\">\n",
       "  <thead>\n",
       "    <tr style=\"text-align: right;\">\n",
       "      <th></th>\n",
       "      <th>Transaction ID</th>\n",
       "      <th>Item</th>\n",
       "      <th>Quantity</th>\n",
       "      <th>Price Per Unit</th>\n",
       "      <th>Total Spent</th>\n",
       "      <th>Payment Method</th>\n",
       "      <th>Location</th>\n",
       "      <th>Transaction Date</th>\n",
       "    </tr>\n",
       "  </thead>\n",
       "  <tbody>\n",
       "  </tbody>\n",
       "</table>\n",
       "</div>"
      ],
      "text/plain": [
       "Empty DataFrame\n",
       "Columns: [Transaction ID, Item, Quantity, Price Per Unit, Total Spent, Payment Method, Location, Transaction Date]\n",
       "Index: []"
      ]
     },
     "execution_count": 183,
     "metadata": {},
     "output_type": "execute_result"
    }
   ],
   "source": [
    "A[(pd.isna(A[\"Quantity\"])) & (pd.isna(A[\"Total Spent\"]))]"
   ]
  },
  {
   "cell_type": "code",
   "execution_count": 184,
   "metadata": {},
   "outputs": [],
   "source": [
    "A[\"Item\"] = A[\"Price Per Unit\"].map(Prices)"
   ]
  },
  {
   "cell_type": "code",
   "execution_count": 185,
   "metadata": {},
   "outputs": [],
   "source": [
    "A[\"Price Per Unit\"] = A[\"Item\"].map(Items)"
   ]
  },
  {
   "cell_type": "code",
   "execution_count": 186,
   "metadata": {},
   "outputs": [
    {
     "data": {
      "text/plain": [
       "Transaction ID      False\n",
       "Item                False\n",
       "Quantity            False\n",
       "Price Per Unit      False\n",
       "Total Spent         False\n",
       "Payment Method       True\n",
       "Location             True\n",
       "Transaction Date     True\n",
       "dtype: bool"
      ]
     },
     "execution_count": 186,
     "metadata": {},
     "output_type": "execute_result"
    }
   ],
   "source": [
    "A.isna().any(axis=0)"
   ]
  },
  {
   "cell_type": "code",
   "execution_count": 187,
   "metadata": {},
   "outputs": [
    {
     "data": {
      "text/html": [
       "<div>\n",
       "<style scoped>\n",
       "    .dataframe tbody tr th:only-of-type {\n",
       "        vertical-align: middle;\n",
       "    }\n",
       "\n",
       "    .dataframe tbody tr th {\n",
       "        vertical-align: top;\n",
       "    }\n",
       "\n",
       "    .dataframe thead th {\n",
       "        text-align: right;\n",
       "    }\n",
       "</style>\n",
       "<table border=\"1\" class=\"dataframe\">\n",
       "  <thead>\n",
       "    <tr style=\"text-align: right;\">\n",
       "      <th></th>\n",
       "      <th>Transaction ID</th>\n",
       "      <th>Item</th>\n",
       "      <th>Quantity</th>\n",
       "      <th>Price Per Unit</th>\n",
       "      <th>Total Spent</th>\n",
       "      <th>Payment Method</th>\n",
       "      <th>Location</th>\n",
       "      <th>Transaction Date</th>\n",
       "    </tr>\n",
       "  </thead>\n",
       "  <tbody>\n",
       "    <tr>\n",
       "      <th>0</th>\n",
       "      <td>1961373</td>\n",
       "      <td>Coffee</td>\n",
       "      <td>2.0</td>\n",
       "      <td>2.0</td>\n",
       "      <td>4.0</td>\n",
       "      <td>Credit Card</td>\n",
       "      <td>Takeaway</td>\n",
       "      <td>2023-09-08</td>\n",
       "    </tr>\n",
       "    <tr>\n",
       "      <th>1</th>\n",
       "      <td>4977031</td>\n",
       "      <td>Cake</td>\n",
       "      <td>4.0</td>\n",
       "      <td>3.0</td>\n",
       "      <td>12.0</td>\n",
       "      <td>Cash</td>\n",
       "      <td>In-store</td>\n",
       "      <td>2023-05-16</td>\n",
       "    </tr>\n",
       "    <tr>\n",
       "      <th>2</th>\n",
       "      <td>4271903</td>\n",
       "      <td>Cookie</td>\n",
       "      <td>4.0</td>\n",
       "      <td>1.0</td>\n",
       "      <td>4.0</td>\n",
       "      <td>Credit Card</td>\n",
       "      <td>In-store</td>\n",
       "      <td>2023-07-19</td>\n",
       "    </tr>\n",
       "    <tr>\n",
       "      <th>3</th>\n",
       "      <td>7034554</td>\n",
       "      <td>Salad</td>\n",
       "      <td>2.0</td>\n",
       "      <td>5.0</td>\n",
       "      <td>10.0</td>\n",
       "      <td>UNKNOWN</td>\n",
       "      <td>UNKNOWN</td>\n",
       "      <td>2023-04-27</td>\n",
       "    </tr>\n",
       "    <tr>\n",
       "      <th>4</th>\n",
       "      <td>3160411</td>\n",
       "      <td>Coffee</td>\n",
       "      <td>2.0</td>\n",
       "      <td>2.0</td>\n",
       "      <td>4.0</td>\n",
       "      <td>Digital Wallet</td>\n",
       "      <td>In-store</td>\n",
       "      <td>2023-06-11</td>\n",
       "    </tr>\n",
       "    <tr>\n",
       "      <th>...</th>\n",
       "      <td>...</td>\n",
       "      <td>...</td>\n",
       "      <td>...</td>\n",
       "      <td>...</td>\n",
       "      <td>...</td>\n",
       "      <td>...</td>\n",
       "      <td>...</td>\n",
       "      <td>...</td>\n",
       "    </tr>\n",
       "    <tr>\n",
       "      <th>9995</th>\n",
       "      <td>7672686</td>\n",
       "      <td>Coffee</td>\n",
       "      <td>2.0</td>\n",
       "      <td>2.0</td>\n",
       "      <td>4.0</td>\n",
       "      <td>NaN</td>\n",
       "      <td>UNKNOWN</td>\n",
       "      <td>2023-08-30</td>\n",
       "    </tr>\n",
       "    <tr>\n",
       "      <th>9996</th>\n",
       "      <td>9659401</td>\n",
       "      <td>Cookie</td>\n",
       "      <td>3.0</td>\n",
       "      <td>1.0</td>\n",
       "      <td>3.0</td>\n",
       "      <td>Digital Wallet</td>\n",
       "      <td>NaN</td>\n",
       "      <td>2023-06-02</td>\n",
       "    </tr>\n",
       "    <tr>\n",
       "      <th>9997</th>\n",
       "      <td>5255387</td>\n",
       "      <td>Coffee</td>\n",
       "      <td>4.0</td>\n",
       "      <td>2.0</td>\n",
       "      <td>8.0</td>\n",
       "      <td>Digital Wallet</td>\n",
       "      <td>NaN</td>\n",
       "      <td>2023-03-02</td>\n",
       "    </tr>\n",
       "    <tr>\n",
       "      <th>9998</th>\n",
       "      <td>7695629</td>\n",
       "      <td>Cookie</td>\n",
       "      <td>3.0</td>\n",
       "      <td>1.0</td>\n",
       "      <td>3.0</td>\n",
       "      <td>Digital Wallet</td>\n",
       "      <td>NaN</td>\n",
       "      <td>2023-12-02</td>\n",
       "    </tr>\n",
       "    <tr>\n",
       "      <th>9999</th>\n",
       "      <td>6170729</td>\n",
       "      <td>Smoothie</td>\n",
       "      <td>3.0</td>\n",
       "      <td>4.0</td>\n",
       "      <td>12.0</td>\n",
       "      <td>Cash</td>\n",
       "      <td>In-store</td>\n",
       "      <td>2023-11-07</td>\n",
       "    </tr>\n",
       "  </tbody>\n",
       "</table>\n",
       "<p>9501 rows × 8 columns</p>\n",
       "</div>"
      ],
      "text/plain": [
       "     Transaction ID      Item  Quantity  Price Per Unit  Total Spent  \\\n",
       "0           1961373    Coffee       2.0             2.0          4.0   \n",
       "1           4977031      Cake       4.0             3.0         12.0   \n",
       "2           4271903    Cookie       4.0             1.0          4.0   \n",
       "3           7034554     Salad       2.0             5.0         10.0   \n",
       "4           3160411    Coffee       2.0             2.0          4.0   \n",
       "...             ...       ...       ...             ...          ...   \n",
       "9995        7672686    Coffee       2.0             2.0          4.0   \n",
       "9996        9659401    Cookie       3.0             1.0          3.0   \n",
       "9997        5255387    Coffee       4.0             2.0          8.0   \n",
       "9998        7695629    Cookie       3.0             1.0          3.0   \n",
       "9999        6170729  Smoothie       3.0             4.0         12.0   \n",
       "\n",
       "      Payment Method  Location Transaction Date  \n",
       "0        Credit Card  Takeaway       2023-09-08  \n",
       "1               Cash  In-store       2023-05-16  \n",
       "2        Credit Card  In-store       2023-07-19  \n",
       "3            UNKNOWN   UNKNOWN       2023-04-27  \n",
       "4     Digital Wallet  In-store       2023-06-11  \n",
       "...              ...       ...              ...  \n",
       "9995             NaN   UNKNOWN       2023-08-30  \n",
       "9996  Digital Wallet       NaN       2023-06-02  \n",
       "9997  Digital Wallet       NaN       2023-03-02  \n",
       "9998  Digital Wallet       NaN       2023-12-02  \n",
       "9999            Cash  In-store       2023-11-07  \n",
       "\n",
       "[9501 rows x 8 columns]"
      ]
     },
     "execution_count": 187,
     "metadata": {},
     "output_type": "execute_result"
    }
   ],
   "source": [
    "A.drop_duplicates()"
   ]
  },
  {
   "cell_type": "code",
   "execution_count": 188,
   "metadata": {},
   "outputs": [
    {
     "name": "stderr",
     "output_type": "stream",
     "text": [
      "C:\\Users\\Neoverse\\AppData\\Local\\Temp\\ipykernel_10896\\455410088.py:2: SettingWithCopyWarning: \n",
      "A value is trying to be set on a copy of a slice from a DataFrame\n",
      "\n",
      "See the caveats in the documentation: https://pandas.pydata.org/pandas-docs/stable/user_guide/indexing.html#returning-a-view-versus-a-copy\n",
      "  A.dropna(subset=[\"Payment Method\", \"Location\", \"Transaction Date\"], inplace=True)\n"
     ]
    }
   ],
   "source": [
    "A = A.loc[~A[\"Payment Method\"].isin([\"UNKNOWN\", \"ERROR\"]) & ~A[\"Location\"].isin([\"UNKNOWN\", \"ERROR\"]) & ~A[\"Transaction Date\"].isin([\"UNKNOWN\", \"ERROR\"])]\n",
    "A.dropna(subset=[\"Payment Method\", \"Location\", \"Transaction Date\"], inplace=True)"
   ]
  },
  {
   "cell_type": "code",
   "execution_count": 189,
   "metadata": {},
   "outputs": [
    {
     "data": {
      "text/plain": [
       "Transaction ID      False\n",
       "Item                False\n",
       "Quantity            False\n",
       "Price Per Unit      False\n",
       "Total Spent         False\n",
       "Payment Method      False\n",
       "Location            False\n",
       "Transaction Date    False\n",
       "dtype: bool"
      ]
     },
     "execution_count": 189,
     "metadata": {},
     "output_type": "execute_result"
    }
   ],
   "source": [
    "A.isna().any(axis=0)"
   ]
  },
  {
   "cell_type": "code",
   "execution_count": 190,
   "metadata": {},
   "outputs": [
    {
     "data": {
      "text/html": [
       "<div>\n",
       "<style scoped>\n",
       "    .dataframe tbody tr th:only-of-type {\n",
       "        vertical-align: middle;\n",
       "    }\n",
       "\n",
       "    .dataframe tbody tr th {\n",
       "        vertical-align: top;\n",
       "    }\n",
       "\n",
       "    .dataframe thead th {\n",
       "        text-align: right;\n",
       "    }\n",
       "</style>\n",
       "<table border=\"1\" class=\"dataframe\">\n",
       "  <thead>\n",
       "    <tr style=\"text-align: right;\">\n",
       "      <th></th>\n",
       "      <th>Transaction ID</th>\n",
       "      <th>Item</th>\n",
       "      <th>Quantity</th>\n",
       "      <th>Price Per Unit</th>\n",
       "      <th>Total Spent</th>\n",
       "      <th>Payment Method</th>\n",
       "      <th>Location</th>\n",
       "      <th>Transaction Date</th>\n",
       "    </tr>\n",
       "  </thead>\n",
       "  <tbody>\n",
       "    <tr>\n",
       "      <th>0</th>\n",
       "      <td>1961373</td>\n",
       "      <td>Coffee</td>\n",
       "      <td>2.0</td>\n",
       "      <td>2.0</td>\n",
       "      <td>4.0</td>\n",
       "      <td>Credit Card</td>\n",
       "      <td>Takeaway</td>\n",
       "      <td>2023-09-08</td>\n",
       "    </tr>\n",
       "    <tr>\n",
       "      <th>1</th>\n",
       "      <td>4977031</td>\n",
       "      <td>Cake</td>\n",
       "      <td>4.0</td>\n",
       "      <td>3.0</td>\n",
       "      <td>12.0</td>\n",
       "      <td>Cash</td>\n",
       "      <td>In-store</td>\n",
       "      <td>2023-05-16</td>\n",
       "    </tr>\n",
       "    <tr>\n",
       "      <th>2</th>\n",
       "      <td>4271903</td>\n",
       "      <td>Cookie</td>\n",
       "      <td>4.0</td>\n",
       "      <td>1.0</td>\n",
       "      <td>4.0</td>\n",
       "      <td>Credit Card</td>\n",
       "      <td>In-store</td>\n",
       "      <td>2023-07-19</td>\n",
       "    </tr>\n",
       "    <tr>\n",
       "      <th>4</th>\n",
       "      <td>3160411</td>\n",
       "      <td>Coffee</td>\n",
       "      <td>2.0</td>\n",
       "      <td>2.0</td>\n",
       "      <td>4.0</td>\n",
       "      <td>Digital Wallet</td>\n",
       "      <td>In-store</td>\n",
       "      <td>2023-06-11</td>\n",
       "    </tr>\n",
       "    <tr>\n",
       "      <th>10</th>\n",
       "      <td>2548360</td>\n",
       "      <td>Salad</td>\n",
       "      <td>5.0</td>\n",
       "      <td>5.0</td>\n",
       "      <td>25.0</td>\n",
       "      <td>Cash</td>\n",
       "      <td>Takeaway</td>\n",
       "      <td>2023-11-07</td>\n",
       "    </tr>\n",
       "  </tbody>\n",
       "</table>\n",
       "</div>"
      ],
      "text/plain": [
       "   Transaction ID    Item  Quantity  Price Per Unit  Total Spent  \\\n",
       "0         1961373  Coffee       2.0             2.0          4.0   \n",
       "1         4977031    Cake       4.0             3.0         12.0   \n",
       "2         4271903  Cookie       4.0             1.0          4.0   \n",
       "4         3160411  Coffee       2.0             2.0          4.0   \n",
       "10        2548360   Salad       5.0             5.0         25.0   \n",
       "\n",
       "    Payment Method  Location Transaction Date  \n",
       "0      Credit Card  Takeaway       2023-09-08  \n",
       "1             Cash  In-store       2023-05-16  \n",
       "2      Credit Card  In-store       2023-07-19  \n",
       "4   Digital Wallet  In-store       2023-06-11  \n",
       "10            Cash  Takeaway       2023-11-07  "
      ]
     },
     "execution_count": 190,
     "metadata": {},
     "output_type": "execute_result"
    }
   ],
   "source": [
    "A.head()"
   ]
  },
  {
   "cell_type": "code",
   "execution_count": 191,
   "metadata": {},
   "outputs": [],
   "source": [
    "B = A[\"Total Spent\"].groupby(A[\"Item\"]).sum()"
   ]
  },
  {
   "cell_type": "code",
   "execution_count": 192,
   "metadata": {},
   "outputs": [
    {
     "data": {
      "image/png": "[encoded data removed]",
      "text/plain": [
       "<Figure size 1400x600 with 2 Axes>"
      ]
     },
     "metadata": {},
     "output_type": "display_data"
    }
   ],
   "source": [
    "from matplotlib.ticker import FuncFormatter\n",
    "def currency(x, pos):\n",
    "    return f'${x:,.0f}'\n",
    "fig, axs = plt.subplots(figsize=(14, 6), nrows=1, ncols=2)\n",
    "fig.tight_layout()\n",
    "font = {'family': 'serif', 'size': 15}\n",
    "axs[0].set_xlabel(\"Item\", fontdict=font)\n",
    "axs[0].set_ylabel(\"Total Spend\", size=15, fontdict=font)\n",
    "axs[0].bar(B.index, B.values, color=\"#7303fc\")\n",
    "axs[0].yaxis.set_major_formatter(FuncFormatter(currency))\n",
    "axs[0].set_title(\"Total Sale By Item\", fontdict=font)\n",
    "axs[1].pie(B.values , labels = B.index , autopct = \"%1.1f%%\")\n",
    "axs[1].set_title(\"Items By pie chart\" , fontdict=font )\n",
    "plt.show()"
   ]
  }
 ],
 "metadata": {
  "kernelspec": {
   "display_name": "Python 3",
   "language": "python",
   "name": "python3"
  },
  "language_info": {
   "codemirror_mode": {
    "name": "ipython",
    "version": 3
   },
   "file_extension": ".py",
   "mimetype": "text/x-python",
   "name": "python",
   "nbconvert_exporter": "python",
   "pygments_lexer": "ipython3",
   "version": "3.13.0"
  }
 },
 "nbformat": 4,
 "nbformat_minor": 2
}
